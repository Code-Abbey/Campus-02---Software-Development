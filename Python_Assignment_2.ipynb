{
  "nbformat": 4,
  "nbformat_minor": 0,
  "metadata": {
    "colab": {
      "provenance": []
    },
    "kernelspec": {
      "name": "python3",
      "display_name": "Python 3"
    },
    "language_info": {
      "name": "python"
    }
  },
  "cells": [
    {
      "cell_type": "markdown",
      "source": [
        "**ADEFUSI, Abiodun Michael**\n",
        "\n",
        "Python Assignment"
      ],
      "metadata": {
        "id": "0z0AyCPwA8UV"
      }
    },
    {
      "cell_type": "code",
      "execution_count": null,
      "metadata": {
        "colab": {
          "base_uri": "https://localhost:8080/"
        },
        "id": "7MhyyKJaA7T8",
        "outputId": "f4004ffd-b62e-4612-a647-ea1c031bfafa"
      },
      "outputs": [
        {
          "output_type": "stream",
          "name": "stdout",
          "text": [
            "1 - starting point\n",
            "2\n",
            "3\n",
            "4\n",
            "5 - middle point\n",
            "6\n",
            "7\n",
            "8\n",
            "9\n",
            "10 - End of point\n"
          ]
        }
      ],
      "source": [
        "# Iterate over the range from 1 to 10 (inclusive)\n",
        "for i in range(1, 11):\n",
        "    # Check if the current value is the starting point\n",
        "    if i == 1:\n",
        "        print(f\"{i} - starting point\")\n",
        "    # Check if the current value is the middle point\n",
        "    elif i == 5:\n",
        "        print(f\"{i} - middle point\")\n",
        "    # Check if the current value is the end point\n",
        "    elif i == 10:\n",
        "        print(f\"{i} - End of point\")\n",
        "    # If none of the above conditions are met, print the current value\n",
        "    else:\n",
        "        print(i)"
      ]
    },
    {
      "cell_type": "code",
      "source": [
        "# Iterate over the range from -1 to -10 (inclusive) with a step of -1\n",
        "for i in range(-1, -11, -1):\n",
        "    # Check if the current value is the starting point\n",
        "    if i == -1:\n",
        "        print(f\"{i} - starting point\")\n",
        "    # Check if the current value is the middle point\n",
        "    elif i == -5:\n",
        "        print(f\"{i} - middle point\")\n",
        "    # Check if the current value is the end point\n",
        "    elif i == -10:\n",
        "        print(f\"{i} - End of point\")\n",
        "    # If none of the above conditions are met, print the current value\n",
        "    else:\n",
        "        print(i)"
      ],
      "metadata": {
        "colab": {
          "base_uri": "https://localhost:8080/"
        },
        "id": "1OQR972KBe2a",
        "outputId": "2addb426-bfa3-4e37-9aca-2dc0d9db8c8a"
      },
      "execution_count": null,
      "outputs": [
        {
          "output_type": "stream",
          "name": "stdout",
          "text": [
            "-1 - starting point\n",
            "-2\n",
            "-3\n",
            "-4\n",
            "-5 - middle point\n",
            "-6\n",
            "-7\n",
            "-8\n",
            "-9\n",
            "-10 - End of point\n"
          ]
        }
      ]
    },
    {
      "cell_type": "markdown",
      "source": [
        "**Automatically identify the starting point, middle point, and end point without explicitly specifying the values**"
      ],
      "metadata": {
        "id": "n9pk7bdcBnnR"
      }
    },
    {
      "cell_type": "code",
      "source": [
        "# Define the start and end values\n",
        "start_value = -1\n",
        "end_value = -10\n",
        "\n",
        "# Iterate over the range from start_value to end_value (inclusive) with a step of -1\n",
        "for i in range(start_value, end_value - 1, -1):\n",
        "    # Check if the current value is the starting point\n",
        "    if i == start_value:\n",
        "        print(f\"{i} - starting point\")\n",
        "    # Check if the current value is the middle point\n",
        "    elif i == (start_value + end_value) // 2:\n",
        "        print(f\"{i} - middle point\")\n",
        "    # Check if the current value is the end point\n",
        "    elif i == end_value:\n",
        "        print(f\"{i} - End of point\")\n",
        "    # If none of the above conditions are met, print the current value\n",
        "    else:\n",
        "        print(i)"
      ],
      "metadata": {
        "colab": {
          "base_uri": "https://localhost:8080/"
        },
        "id": "ZUWX_8opBi58",
        "outputId": "177f7d33-fa37-4166-8562-b477f4f1fccd"
      },
      "execution_count": null,
      "outputs": [
        {
          "output_type": "stream",
          "name": "stdout",
          "text": [
            "-1 - starting point\n",
            "-2\n",
            "-3\n",
            "-4\n",
            "-5\n",
            "-6 - middle point\n",
            "-7\n",
            "-8\n",
            "-9\n",
            "-10 - End of point\n"
          ]
        }
      ]
    },
    {
      "cell_type": "code",
      "source": [
        "# Define the start and end values\n",
        "start_value = 1\n",
        "end_value = 10\n",
        "\n",
        "# Iterate over the range from start_value to end_value (inclusive) with a step of 1\n",
        "for i in range(start_value, end_value + 1):\n",
        "    # Check if the current value is the starting point\n",
        "    if i == start_value:\n",
        "        print(f\"{i} - starting point\")\n",
        "    # Check if the current value is the middle point\n",
        "    elif i == (start_value + end_value) // 2:\n",
        "        print(f\"{i} - middle point\")\n",
        "    # Check if the current value is the end point\n",
        "    elif i == end_value:\n",
        "        print(f\"{i} - End of point\")\n",
        "    # If none of the above conditions are met, print the current value\n",
        "    else:\n",
        "        print(i)"
      ],
      "metadata": {
        "colab": {
          "base_uri": "https://localhost:8080/"
        },
        "id": "HOk6cr8tByPU",
        "outputId": "bf8e3584-cd44-41ea-d1ee-7fe5720b5f6d"
      },
      "execution_count": null,
      "outputs": [
        {
          "output_type": "stream",
          "name": "stdout",
          "text": [
            "1 - starting point\n",
            "2\n",
            "3\n",
            "4\n",
            "5 - middle point\n",
            "6\n",
            "7\n",
            "8\n",
            "9\n",
            "10 - End of point\n"
          ]
        }
      ]
    }
  ]
}