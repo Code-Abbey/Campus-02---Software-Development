{
  "nbformat": 4,
  "nbformat_minor": 0,
  "metadata": {
    "colab": {
      "provenance": [],
      "authorship_tag": "ABX9TyO6W6TuGyKJVPgCvT+MuDt9",
      "include_colab_link": true
    },
    "kernelspec": {
      "name": "python3",
      "display_name": "Python 3"
    },
    "language_info": {
      "name": "python"
    }
  },
  "cells": [
    {
      "cell_type": "markdown",
      "metadata": {
        "id": "view-in-github",
        "colab_type": "text"
      },
      "source": [
        "<a href=\"https://colab.research.google.com/github/Code-Abbey/Campus-02---Software-Development/blob/main/Software_Assignment.ipynb\" target=\"_parent\"><img src=\"https://colab.research.google.com/assets/colab-badge.svg\" alt=\"Open In Colab\"/></a>"
      ]
    },
    {
      "cell_type": "markdown",
      "source": [
        "# **Task**\n",
        "\n",
        "**ADEFUSI, Abiodun Michael**\n",
        "\n",
        "Write a program that prints out the pascals diagram. The number of rows shall depend on the users input\n"
      ],
      "metadata": {
        "id": "yPteU9IGk4g7"
      }
    },
    {
      "cell_type": "code",
      "execution_count": 1,
      "metadata": {
        "colab": {
          "base_uri": "https://localhost:8080/",
          "height": 0
        },
        "id": "rL-kyjytk1E5",
        "outputId": "a5cf98c4-d06c-457d-aa0d-434be11a92dc"
      },
      "outputs": [
        {
          "output_type": "stream",
          "name": "stdout",
          "text": [
            "Enter the number of rows for Pascal's Triangle: 10\n",
            "              1               \n",
            "             1 1              \n",
            "            1 2 1             \n",
            "           1 3 3 1            \n",
            "          1 4 6 4 1           \n",
            "        1 5 10 10 5 1         \n",
            "       1 6 15 20 15 6 1       \n",
            "     1 7 21 35 35 21 7 1      \n",
            "    1 8 28 56 70 56 28 8 1    \n",
            " 1 9 36 84 126 126 84 36 9 1  \n"
          ]
        }
      ],
      "source": [
        "# Function to generate Pascal's Triangle up to the specified number of rows\n",
        "def pascals_triangle(rows):\n",
        "    triangle = []\n",
        "\n",
        "    # Iterate through each row\n",
        "    for i in range(rows):\n",
        "        row = [1] * (i + 1) # Initialize a new row with all 1s\n",
        "\n",
        "        # Calculate values inside the row using the binomial coefficient formula\n",
        "        for j in range(1, i):\n",
        "            row[j] = triangle[i - 1][j - 1] + triangle[i - 1][j]\n",
        "\n",
        "        triangle.append(row)\n",
        "    return triangle\n",
        "\n",
        "# Function to print Pascal's Triangle\n",
        "def print_pascals_triangle(triangle):\n",
        "    for row in triangle:\n",
        "        # Join each element in the row as a string with spaces, and center it\n",
        "        print(\" \".join(map(str, row)).center(len(triangle[-1]) * 3))\n",
        "\n",
        "# User input for the number of rows\n",
        "num_rows = int(input(\"Enter the number of rows for Pascal's Triangle: \"))\n",
        "\n",
        "# Generate Pascal's Triangle and print it\n",
        "pascals_triangle_result = pascals_triangle(num_rows)\n",
        "print_pascals_triangle(pascals_triangle_result)"
      ]
    }
  ]
}